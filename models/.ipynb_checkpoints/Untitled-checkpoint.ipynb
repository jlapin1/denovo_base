{
 "cells": [
  {
   "cell_type": "code",
   "execution_count": 1,
   "id": "017a7e98-64cc-4297-988e-944c9204b066",
   "metadata": {},
   "outputs": [],
   "source": [
    "import numpy as np\n",
    "import matplotlib.pyplot as plt\n",
    "%matplotlib widget"
   ]
  },
  {
   "cell_type": "code",
   "execution_count": 4,
   "id": "4165934a-2946-4aef-9826-d7a5d1505096",
   "metadata": {},
   "outputs": [],
   "source": [
    "import sys\n",
    "sys.path.append('../')\n",
    "import model_parts_fn as mp"
   ]
  },
  {
   "cell_type": "code",
   "execution_count": 6,
   "id": "7ddd1ddb-1509-4ca2-9f78-c824d4be92a3",
   "metadata": {},
   "outputs": [],
   "source": [
    "import numpy as np"
   ]
  },
  {
   "cell_type": "code",
   "execution_count": 7,
   "id": "52d8c11c-b039-4bf2-9331-590c3713e918",
   "metadata": {},
   "outputs": [],
   "source": [
    "twopi = 2*np.pi\n",
    "N = np.arange(100)\n",
    "K = np.arange(100)"
   ]
  }
 ],
 "metadata": {
  "kernelspec": {
   "display_name": "Python 3 (ipykernel)",
   "language": "python",
   "name": "python3"
  },
  "language_info": {
   "codemirror_mode": {
    "name": "ipython",
    "version": 3
   },
   "file_extension": ".py",
   "mimetype": "text/x-python",
   "name": "python",
   "nbconvert_exporter": "python",
   "pygments_lexer": "ipython3",
   "version": "3.11.5"
  }
 },
 "nbformat": 4,
 "nbformat_minor": 5
}
